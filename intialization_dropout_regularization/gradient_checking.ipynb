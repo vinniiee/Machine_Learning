{
 "cells": [
  {
   "cell_type": "code",
   "execution_count": 18,
   "metadata": {},
   "outputs": [],
   "source": [
    "import numpy as np\n",
    "#%run reg_utils.ipynb\n",
    "%run gc_utils.ipynb"
   ]
  },
  {
   "cell_type": "code",
   "execution_count": 1,
   "metadata": {},
   "outputs": [],
   "source": [
    "def forward_propagation(x, theta):\n",
    "    \"\"\"\n",
    "    Implement the linear forward propagation (compute J) presented in\n",
    "    Figure 1 (J(theta) = theta * x) ,→\n",
    "    Arguments:\n",
    "    x -- a real-valued input\n",
    "    theta -- our parameter, a real number as well\n",
    "    Returns:\n",
    "    J -- the value of function J, computed using the formula J(theta) =\n",
    "    theta * x ,→\n",
    "    \"\"\"\n",
    "\n",
    "    J = theta * x\n",
    "\n",
    "    return J"
   ]
  },
  {
   "cell_type": "code",
   "execution_count": 3,
   "metadata": {},
   "outputs": [
    {
     "name": "stdout",
     "output_type": "stream",
     "text": [
      "J = 8\n"
     ]
    }
   ],
   "source": [
    "x, theta = 2, 4 \n",
    "J = forward_propagation(x, theta)\n",
    "print (\"J = \" + str(J))"
   ]
  },
  {
   "cell_type": "code",
   "execution_count": 4,
   "metadata": {},
   "outputs": [],
   "source": [
    "def backward_propagation(x, theta):\n",
    "    \"\"\"\n",
    "    Computes the derivative of J with respect to theta (see Figure).\n",
    "    Arguments:\n",
    "    x -- a real-valued input\n",
    "    theta -- our parameter, a real number as well\n",
    "    Returns:\n",
    "    dtheta -- the gradient of the cost with respect to theta\n",
    "    \"\"\"\n",
    "    \n",
    "    dtheta = x\n",
    "    \n",
    "    return dtheta"
   ]
  },
  {
   "cell_type": "code",
   "execution_count": 5,
   "metadata": {},
   "outputs": [
    {
     "name": "stdout",
     "output_type": "stream",
     "text": [
      "dtheta = 2\n"
     ]
    }
   ],
   "source": [
    "x, theta = 2, 4\n",
    "dtheta = backward_propagation(x, theta)\n",
    "print (\"dtheta = \" + str(dtheta))"
   ]
  },
  {
   "cell_type": "code",
   "execution_count": 6,
   "metadata": {},
   "outputs": [],
   "source": [
    "def gradient_check(x, theta, epsilon = 1e-7):\n",
    "    \"\"\"\n",
    "    Implement the backward propagation presented in Figure 1.\n",
    "    Arguments:\n",
    "    x -- a real-valued input\n",
    "    theta -- our parameter, a real number as well\n",
    "    epsilon -- tiny shift to the input to compute approximated gradient\n",
    "    with formula(1) ,→\n",
    "    Returns:\n",
    "    difference -- difference (2) between the approximated gradient and\n",
    "    the backward propagation gradient ,→\n",
    "    \"\"\"\n",
    "    # Compute gradapprox using left side of formula (1). epsilon is small enough, you don't need to worry about the limit. ,→\n",
    "    \n",
    "    thetaplus = theta + epsilon # Step 1\n",
    "    thetaminus = theta - epsilon # Step 2\n",
    "    J_plus = thetaplus * x # Step 3\n",
    "    J_minus = thetaminus * x # Step 4\n",
    "    gradapprox = ( J_plus-J_minus)/(2*epsilon) # Step 5\n",
    "    \n",
    "    \n",
    "    # Check if gradapprox is close enough to the output of backward_propagation() ,→\n",
    "    \n",
    "    \n",
    "    grad = backward_propagation(x, theta)\n",
    "    \n",
    "    numerator = np.linalg.norm(grad-gradapprox) # Step 1'\n",
    "    \n",
    "    denominator = np.linalg.norm(grad) + np.linalg.norm(gradapprox) #Step 2' ,→\n",
    "    \n",
    "    difference = numerator/denominator #Step 3' ,→\n",
    "    \n",
    "    if difference < 1e-7:\n",
    "        print (\"The gradient is correct!\")\n",
    "    else:\n",
    "        print (\"The gradient is wrong!\")\n",
    "    return difference"
   ]
  },
  {
   "cell_type": "code",
   "execution_count": 9,
   "metadata": {},
   "outputs": [
    {
     "name": "stdout",
     "output_type": "stream",
     "text": [
      "The gradient is correct!\n",
      "difference = 2.919335883291695e-10\n"
     ]
    }
   ],
   "source": [
    "x, theta = 2, 4\n",
    "difference = gradient_check(x, theta)\n",
    "print(\"difference = \" + str(difference))"
   ]
  },
  {
   "cell_type": "code",
   "execution_count": 10,
   "metadata": {},
   "outputs": [],
   "source": [
    "def forward_propagation_n(X, Y, parameters):\n",
    "    \"\"\"\n",
    "    Implements the forward propagation (and computes the cost)\n",
    "    presented in Figure 3. ,→\n",
    "    Arguments:\n",
    "    X -- training set for m examples\n",
    "    Y -- labels for m examples\n",
    "    parameters -- python dictionary containing your parameters \"W1\",\n",
    "    \"b1\", \"W2\", \"b2\", \"W3\", \"b3\": ,→\n",
    "    W1 -- weight matrix of shape (5, 4)\n",
    "    b1 -- bias vector of shape (5, 1)\n",
    "    W2 -- weight matrix of shape (3, 5)\n",
    "    b2 -- bias vector of shape (3, 1)\n",
    "    W3 -- weight matrix of shape (1, 3)\n",
    "    b3 -- bias vector of shape (1, 1)\n",
    "    Returns:\n",
    "    cost -- the cost function (logistic cost for one example)\n",
    "    \"\"\"\n",
    "    # retrieve parameters\n",
    "    m = X.shape[1]\n",
    "    W1 = parameters[\"W1\"]\n",
    "    b1 = parameters[\"b1\"]\n",
    "    W2 = parameters[\"W2\"]\n",
    "    b2 = parameters[\"b2\"]\n",
    "    145\n",
    "    W3 = parameters[\"W3\"]\n",
    "    b3 = parameters[\"b3\"]\n",
    "    # LINEAR -> RELU -> LINEAR -> RELU -> LINEAR -> SIGMOID\n",
    "    Z1 = np.dot(W1, X) + b1\n",
    "    A1 = relu(Z1)\n",
    "    Z2 = np.dot(W2, A1) + b2\n",
    "    A2 = relu(Z2)\n",
    "    Z3 = np.dot(W3, A2) + b3\n",
    "    A3 = sigmoid(Z3)\n",
    "    # Cost\n",
    "    logprobs = np.multiply(-np.log(A3),Y) + np.multiply(-np.log(1 -A3), 1 - Y) \n",
    "    cost = 1./m * np.sum(logprobs)\n",
    "    cache = (Z1, A1, W1, b1, Z2, A2, W2, b2, Z3, A3, W3, b3)\n",
    "    \n",
    "    return cost, cache"
   ]
  },
  {
   "cell_type": "code",
   "execution_count": 26,
   "metadata": {},
   "outputs": [],
   "source": [
    "def backward_propagation_n(X, Y, cache):\n",
    "    \"\"\"\n",
    "    Implement the backward propagation presented in figure 2.\n",
    "    Arguments:\n",
    "    X -- input datapoint, of shape (input size, 1)\n",
    "    Y -- true \"label\"\n",
    "    cache -- cache output from forward_propagation_n()\n",
    "    Returns:\n",
    "    gradients -- A dictionary with the gradients of the cost with\n",
    "    respect to each parameter, activation and pre-activation variables. ,→\n",
    "    \"\"\"\n",
    "    \n",
    "    m = X.shape[1]\n",
    "    (Z1, A1, W1, b1, Z2, A2, W2, b2, Z3, A3, W3, b3) = cache\n",
    "    \n",
    "    dZ3 = A3 - Y\n",
    "    dW3 = 1./m * np.dot(dZ3, A2.T)\n",
    "    db3 = 1./m * np.sum(dZ3, axis=1, keepdims = True)\n",
    "    \n",
    "    dA2 = np.dot(W3.T, dZ3)\n",
    "    dZ2 = np.multiply(dA2, np.int64(A2 > 0))\n",
    "    dW2 = 1./m * np.dot(dZ2, A1.T) \n",
    "    db2 = 1./m * np.sum(dZ2, axis=1, keepdims = True)\n",
    "    \n",
    "    dA1 = np.dot(W2.T, dZ2)\n",
    "    dZ1 = np.multiply(dA1, np.int64(A1 > 0))\n",
    "    dW1 = 1./m * np.dot(dZ1, X.T)\n",
    "    db1 = 1./m * np.sum(dZ1, axis=1, keepdims = True)\n",
    "\n",
    "    gradients = {\"dZ3\": dZ3, \"dW3\": dW3, \"db3\": db3,\n",
    "    \"dA2\": dA2, \"dZ2\": dZ2, \"dW2\": dW2, \"db2\": db2,\n",
    "    \"dA1\": dA1, \"dZ1\": dZ1, \"dW1\": dW1, \"db1\": db1}\n",
    "\n",
    "\n",
    "    return gradients"
   ]
  },
  {
   "cell_type": "code",
   "execution_count": 29,
   "metadata": {},
   "outputs": [],
   "source": [
    "def gradient_check_n(parameters, gradients, X, Y, epsilon = 1e-7):\n",
    "    \"\"\"\n",
    "    Checks if backward_propagation_n computes correctly the gradient of\n",
    "    the cost output by forward_propagation_n ,→\n",
    "    Arguments:\n",
    "    parameters -- python dictionary containing your parameters \"W1\",\n",
    "    \"b1\", \"W2\", \"b2\", \"W3\", \"b3\": ,→\n",
    "    grad -- output of backward_propagation_n, contains gradients of the\n",
    "    cost with respect to the parameters. ,→\n",
    "    x -- input datapoint, of shape (input size, 1)\n",
    "    y -- true \"label\"\n",
    "    epsilon -- tiny shift to the input to compute approximated gradient\n",
    "    with formula(1) ,→\n",
    "    Returns:\n",
    "    difference -- difference (2) between the approximated gradient and\n",
    "    the backward propagation gradient ,→\n",
    "    \"\"\"\n",
    "    # Set-up variables\n",
    "    \n",
    "    parameters_values, _ = dictionary_to_vector(parameters)\n",
    "    grad = gradients_to_vector(gradients)\n",
    "    num_parameters = parameters_values.shape[0]\n",
    "    J_plus = np.zeros((num_parameters, 1))\n",
    "    J_minus = np.zeros((num_parameters, 1))\n",
    "    gradapprox = np.zeros((num_parameters, 1))\n",
    "    \n",
    "    # Compute gradapprox\n",
    "    for i in range(num_parameters):\n",
    "        # Compute J_plus[i]. Inputs: \"parameters_values, epsilon\".Output = \"J_plus[i]\". ,→\n",
    "        # \"_\" is used because the function you have to outputs two parameters but we only care about the first one ,→\n",
    "\n",
    "        thetaplus = np.copy(parameters_values) # Step 1\n",
    "        thetaplus[i][0] = thetaplus[i][0] + epsilon # Step 2\n",
    "        J_plus[i], _ = forward_propagation_n(X, Y,vector_to_dictionary(thetaplus)) # Step 3 ,→\n",
    "\n",
    "        # Compute J_minus[i]. Inputs: \"parameters_values, epsilon\".\n",
    "        Output = \"J_minus[i]\"\n",
    "\n",
    "        thetaminus = np.copy(parameters_values) # Step 1\n",
    "        thetaminus[i][0] = thetaminus[i][0] - epsilon # Step 2\n",
    "        J_minus[i], _ = forward_propagation_n(X, Y,\n",
    "        vector_to_dictionary(thetaminus)) # Step 3 ,→\n",
    "\n",
    "        # Compute gradapprox[i]\n",
    "\n",
    "        gradapprox[i] = (J_plus[i] - J_minus[i]) / (2.* epsilon)\n",
    "\n",
    "        # Compare gradapprox to backward propagation gradients by computing difference. ,→\n",
    "\n",
    "        numerator = np.linalg.norm(grad - gradapprox) # Step 1'\n",
    "        denominator = np.linalg.norm(grad) + np.linalg.norm(gradapprox) #Step 2' ,→\n",
    "        difference = numerator / denominator # Step 3'\n",
    "\n",
    "\n",
    "    if difference > 1.2e-7:\n",
    "        print (\"\\033[93m\" + \"There is a mistake in the backward propagation! difference = \" + str(difference) + \"\\033[0m\") \n",
    "    else:\n",
    "        print (\"\\033[92m\" + \"Your backward propagation works perfectly fine! difference = \" + str(difference) + \"\\033[0m\") \n",
    "\n",
    "    return difference"
   ]
  },
  {
   "cell_type": "code",
   "execution_count": 30,
   "metadata": {},
   "outputs": [
    {
     "name": "stdout",
     "output_type": "stream",
     "text": [
      "\u001b[92mYour backward propagation works perfectly fine! difference = 1.1885552035482147e-07\u001b[0m\n"
     ]
    }
   ],
   "source": [
    "X, Y, parameters = gradient_check_n_test_case()\n",
    "cost, cache = forward_propagation_n(X, Y, parameters)\n",
    "gradients = backward_propagation_n(X, Y, cache)\n",
    "difference = gradient_check_n(parameters, gradients, X, Y)"
   ]
  },
  {
   "cell_type": "code",
   "execution_count": null,
   "metadata": {},
   "outputs": [],
   "source": []
  }
 ],
 "metadata": {
  "kernelspec": {
   "display_name": "Python 3",
   "language": "python",
   "name": "python3"
  },
  "language_info": {
   "codemirror_mode": {
    "name": "ipython",
    "version": 3
   },
   "file_extension": ".py",
   "mimetype": "text/x-python",
   "name": "python",
   "nbconvert_exporter": "python",
   "pygments_lexer": "ipython3",
   "version": "3.8.5"
  }
 },
 "nbformat": 4,
 "nbformat_minor": 4
}
